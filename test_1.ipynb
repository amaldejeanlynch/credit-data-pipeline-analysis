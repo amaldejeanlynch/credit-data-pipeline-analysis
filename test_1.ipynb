{
 "cells": [
  {
   "cell_type": "code",
   "execution_count": null,
   "id": "1e15f591",
   "metadata": {},
   "outputs": [],
   "source": [
    "import pandas as pd"
   ]
  },
  {
   "cell_type": "code",
   "execution_count": null,
   "id": "41e1f420",
   "metadata": {},
   "outputs": [],
   "source": [
    "import psycopg2"
   ]
  },
  {
   "cell_type": "code",
   "execution_count": null,
   "id": "e92802a2",
   "metadata": {},
   "outputs": [],
   "source": [
    "df = pd.read_csv('data/01_raw_credit_data.csv')"
   ]
  },
  {
   "cell_type": "code",
   "execution_count": null,
   "id": "5682cc90",
   "metadata": {},
   "outputs": [],
   "source": [
    "df"
   ]
  },
  {
   "cell_type": "code",
   "execution_count": null,
   "id": "b0df43d0",
   "metadata": {},
   "outputs": [],
   "source": [
    "from config import engine"
   ]
  },
  {
   "cell_type": "code",
   "execution_count": null,
   "id": "5ef05785",
   "metadata": {},
   "outputs": [],
   "source": [
    "df_db = pd.read_sql(\"SELECT * FROM album_data\", engine)"
   ]
  },
  {
   "cell_type": "code",
   "execution_count": null,
   "id": "57d65587",
   "metadata": {},
   "outputs": [],
   "source": []
  }
 ],
 "metadata": {
  "kernelspec": {
   "display_name": ".venv (3.11.3)",
   "language": "python",
   "name": "python3"
  },
  "language_info": {
   "codemirror_mode": {
    "name": "ipython",
    "version": 3
   },
   "file_extension": ".py",
   "mimetype": "text/x-python",
   "name": "python",
   "nbconvert_exporter": "python",
   "pygments_lexer": "ipython3",
   "version": "3.11.3"
  }
 },
 "nbformat": 4,
 "nbformat_minor": 5
}
